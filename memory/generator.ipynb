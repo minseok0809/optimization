{
 "cells": [
  {
   "attachments": {},
   "cell_type": "markdown",
   "metadata": {},
   "source": [
    "## Generator"
   ]
  },
  {
   "attachments": {},
   "cell_type": "markdown",
   "metadata": {},
   "source": [
    "<br>"
   ]
  },
  {
   "cell_type": "code",
   "execution_count": null,
   "metadata": {
    "vscode": {
     "languageId": "plaintext"
    }
   },
   "outputs": [],
   "source": [
    "import sys\n",
    "import time"
   ]
  },
  {
   "cell_type": "code",
   "execution_count": null,
   "metadata": {
    "vscode": {
     "languageId": "plaintext"
    }
   },
   "outputs": [],
   "source": [
    "test_num = 1000000\n",
    "gen1 = (i for i in range(test_num))\n",
    "list1 = list(range(test_num))\n",
    " \n",
    "print('gen1의 용량 :', sys.getsizeof(gen1))\n",
    "print('list1의 용량 :', sys.getsizeof(list1))"
   ]
  },
  {
   "cell_type": "code",
   "execution_count": null,
   "metadata": {
    "vscode": {
     "languageId": "plaintext"
    }
   },
   "outputs": [],
   "source": [
    "execution = []\n",
    "\n",
    "for i in range(100):\n",
    "    start = time.time()\n",
    "    filename = 'Sherlock Holmes.txt'\n",
    "    lengths = [len(line) for line in open(filename)]\n",
    "    roots = [x**0.5 for x in lengths]\n",
    "    print(sum(roots))\n",
    "    end = time.time()\n",
    "    execution.append(end-start)\n",
    "\n",
    "print(f'Avg execution time with list comprehensions: '\n",
    "      f'{sum(execution)/len(execution):.5f}')"
   ]
  },
  {
   "cell_type": "code",
   "execution_count": null,
   "metadata": {
    "vscode": {
     "languageId": "plaintext"
    }
   },
   "outputs": [],
   "source": [
    "execution = []\n",
    "\n",
    "for i in range(100):\n",
    "    start = time.time()\n",
    "    filename = 'Sherlock Holmes.txt'\n",
    "    lengths = (len(line) for line in open(filename))\n",
    "    roots = (x**0.5 for x in lengths)\n",
    "    print(sum(roots))\n",
    "    end = time.time()\n",
    "    execution.append(end-start)\n",
    "\n",
    "print(f'Avg execution time with generator expressions: '\n",
    "      f'{sum(execution)/len(execution):.5f}')"
   ]
  },
  {
   "attachments": {},
   "cell_type": "markdown",
   "metadata": {},
   "source": [
    "### Reference"
   ]
  },
  {
   "attachments": {},
   "cell_type": "markdown",
   "metadata": {},
   "source": [
    "<b>Community<b/>\n",
    "<br>[Python: avoid large list comprehensions](https://dev.to/v_it_aly/python-tips-avoid-large-list-comprehensions-4jl0)\n",
    "<br><br><b>Blog<b/>\n",
    "<br>[파이썬(Python) - 제너레이터(generator)에 대해서 알아보자](https://odanttoi.tistory.com/101)"
   ]
  }
 ],
 "metadata": {
  "language_info": {
   "name": "python"
  },
  "orig_nbformat": 4
 },
 "nbformat": 4,
 "nbformat_minor": 2
}
